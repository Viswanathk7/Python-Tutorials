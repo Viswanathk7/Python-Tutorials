{
 "cells": [
  {
   "cell_type": "markdown",
   "metadata": {},
   "source": [
    "# Python Tutorial - 2"
   ]
  },
  {
   "cell_type": "markdown",
   "metadata": {},
   "source": [
    "### Assigning Values to Variables\n",
    "Python is a **weakly typed language**. So, There is no need for explicitly mentioning the variable type."
   ]
  },
  {
   "cell_type": "code",
   "execution_count": 1,
   "metadata": {
    "collapsed": false
   },
   "outputs": [
    {
     "name": "stdout",
     "output_type": "stream",
     "text": [
      "100\n",
      "1000.0\n",
      "xyz\n"
     ]
    }
   ],
   "source": [
    "i = 100          # An integer assignment\n",
    "f   = 1000.0       # A floating point\n",
    "s    = \"xyz\"       # A string\n",
    "\n",
    "print i\n",
    "print f\n",
    "print s"
   ]
  },
  {
   "cell_type": "markdown",
   "metadata": {},
   "source": [
    "### Multiple Assignment"
   ]
  },
  {
   "cell_type": "code",
   "execution_count": 2,
   "metadata": {
    "collapsed": false
   },
   "outputs": [
    {
     "name": "stdout",
     "output_type": "stream",
     "text": [
      "1 1 1\n",
      "xyz 20\n"
     ]
    }
   ],
   "source": [
    "a = b = c = 1\n",
    "name, age = \"xyz\",20\n",
    "print a,b,c\n",
    "print name,age"
   ]
  },
  {
   "cell_type": "markdown",
   "metadata": {},
   "source": [
    "### Del Operation\n",
    "Python supports De-allocation of variables which can be done mannually using the *del* keyword"
   ]
  },
  {
   "cell_type": "code",
   "execution_count": 3,
   "metadata": {
    "collapsed": false
   },
   "outputs": [
    {
     "name": "stdout",
     "output_type": "stream",
     "text": [
      "10"
     ]
    },
    {
     "ename": "NameError",
     "evalue": "name 'b' is not defined",
     "output_type": "error",
     "traceback": [
      "\u001b[0;31m---------------------------------------------------------------------------\u001b[0m",
      "\u001b[0;31mNameError\u001b[0m                                 Traceback (most recent call last)",
      "\u001b[0;32m<ipython-input-3-505a26e653a8>\u001b[0m in \u001b[0;36m<module>\u001b[0;34m()\u001b[0m\n\u001b[1;32m      1\u001b[0m \u001b[0ma\u001b[0m\u001b[0;34m,\u001b[0m\u001b[0mb\u001b[0m \u001b[0;34m=\u001b[0m \u001b[0;36m10\u001b[0m\u001b[0;34m,\u001b[0m\u001b[0;36m20\u001b[0m\u001b[0;34m\u001b[0m\u001b[0m\n\u001b[1;32m      2\u001b[0m \u001b[0;32mdel\u001b[0m \u001b[0mb\u001b[0m\u001b[0;34m\u001b[0m\u001b[0m\n\u001b[0;32m----> 3\u001b[0;31m \u001b[0;32mprint\u001b[0m \u001b[0ma\u001b[0m\u001b[0;34m,\u001b[0m\u001b[0mb\u001b[0m\u001b[0;34m\u001b[0m\u001b[0m\n\u001b[0m",
      "\u001b[0;31mNameError\u001b[0m: name 'b' is not defined"
     ]
    }
   ],
   "source": [
    "a,b = 10,20\n",
    "del b\n",
    "print a,b"
   ]
  },
  {
   "cell_type": "markdown",
   "metadata": {},
   "source": [
    "It supports for deleting multiple variables also."
   ]
  },
  {
   "cell_type": "code",
   "execution_count": 4,
   "metadata": {
    "collapsed": false
   },
   "outputs": [
    {
     "name": "stdout",
     "output_type": "stream",
     "text": [
      " 1 2"
     ]
    },
    {
     "ename": "NameError",
     "evalue": "name 'c' is not defined",
     "output_type": "error",
     "traceback": [
      "\u001b[0;31m---------------------------------------------------------------------------\u001b[0m",
      "\u001b[0;31mNameError\u001b[0m                                 Traceback (most recent call last)",
      "\u001b[0;32m<ipython-input-4-1d08130de540>\u001b[0m in \u001b[0;36m<module>\u001b[0;34m()\u001b[0m\n\u001b[1;32m      1\u001b[0m \u001b[0ma\u001b[0m\u001b[0;34m,\u001b[0m\u001b[0mb\u001b[0m\u001b[0;34m,\u001b[0m\u001b[0mc\u001b[0m\u001b[0;34m,\u001b[0m\u001b[0md\u001b[0m\u001b[0;34m,\u001b[0m\u001b[0me\u001b[0m \u001b[0;34m=\u001b[0m \u001b[0;36m1\u001b[0m\u001b[0;34m,\u001b[0m\u001b[0;36m2\u001b[0m\u001b[0;34m,\u001b[0m\u001b[0;36m3\u001b[0m\u001b[0;34m,\u001b[0m\u001b[0;36m4\u001b[0m\u001b[0;34m,\u001b[0m\u001b[0;36m5\u001b[0m\u001b[0;34m\u001b[0m\u001b[0m\n\u001b[1;32m      2\u001b[0m \u001b[0;32mdel\u001b[0m \u001b[0mc\u001b[0m\u001b[0;34m,\u001b[0m\u001b[0md\u001b[0m\u001b[0;34m,\u001b[0m\u001b[0me\u001b[0m\u001b[0;34m\u001b[0m\u001b[0m\n\u001b[0;32m----> 3\u001b[0;31m \u001b[0;32mprint\u001b[0m \u001b[0ma\u001b[0m\u001b[0;34m,\u001b[0m\u001b[0mb\u001b[0m\u001b[0;34m,\u001b[0m\u001b[0mc\u001b[0m\u001b[0;34m,\u001b[0m\u001b[0md\u001b[0m\u001b[0;34m,\u001b[0m\u001b[0me\u001b[0m\u001b[0;34m\u001b[0m\u001b[0m\n\u001b[0m",
      "\u001b[0;31mNameError\u001b[0m: name 'c' is not defined"
     ]
    }
   ],
   "source": [
    "a,b,c,d,e = 1,2,3,4,5\n",
    "del c,d,e\n",
    "print a,b,c,d,e"
   ]
  },
  {
   "cell_type": "markdown",
   "metadata": {},
   "source": [
    "### Datatypes\n",
    "Python has five standard data types −\n",
    "\n",
    "* Numbers\n",
    "\n",
    "* String\n",
    "\n",
    "* List\n",
    "\n",
    "* Tuple\n",
    "\n",
    "* Dictionary\n"
   ]
  },
  {
   "cell_type": "markdown",
   "metadata": {},
   "source": [
    "### Getting Type of the variable"
   ]
  },
  {
   "cell_type": "code",
   "execution_count": 6,
   "metadata": {
    "collapsed": false
   },
   "outputs": [
    {
     "name": "stdout",
     "output_type": "stream",
     "text": [
      "<type 'int'>\n",
      "<type 'float'>\n",
      "<type 'str'>\n"
     ]
    }
   ],
   "source": [
    "a,b,c = 1,2.0,\"xyz\"\n",
    "print type(a)\n",
    "print type(b)\n",
    "print type(c)"
   ]
  },
  {
   "cell_type": "markdown",
   "metadata": {},
   "source": [
    "### Numbers\n",
    "\n",
    "\n",
    "* int (signed integers)\n",
    "\n",
    "* long (long integers, they can also be represented in octal and hexadecimal)\n",
    "\n",
    "* float (floating point real values)\n",
    "\n",
    "* complex (complex numbers)\n"
   ]
  },
  {
   "cell_type": "code",
   "execution_count": 7,
   "metadata": {
    "collapsed": false
   },
   "outputs": [
    {
     "name": "stdout",
     "output_type": "stream",
     "text": [
      "20 535633629843 290 2.34j\n",
      "<type 'int'> <type 'long'> <type 'int'> <type 'complex'>\n"
     ]
    }
   ],
   "source": [
    "i = 20\n",
    "l1 = 535633629843L\n",
    "l2 = 0x122\n",
    "c = 2.34j\n",
    "\n",
    "print i,l1,l2,c\n",
    "print type(i),type(l1),type(l2),type(c)"
   ]
  },
  {
   "cell_type": "code",
   "execution_count": 8,
   "metadata": {
    "collapsed": false
   },
   "outputs": [
    {
     "name": "stdout",
     "output_type": "stream",
     "text": [
      "9223372036854775807\n"
     ]
    }
   ],
   "source": [
    "import sys\n",
    "\n",
    "print sys.maxint #This is the maximum range for integer"
   ]
  },
  {
   "cell_type": "code",
   "execution_count": 10,
   "metadata": {
    "collapsed": false
   },
   "outputs": [
    {
     "name": "stdout",
     "output_type": "stream",
     "text": [
      "<type 'long'>\n",
      "<type 'int'>\n"
     ]
    }
   ],
   "source": [
    "a = 9223372036854775809\n",
    "b = 9223372036854775806\n",
    "print type(a)\n",
    "print type(b)"
   ]
  },
  {
   "cell_type": "markdown",
   "metadata": {},
   "source": [
    "### Dynamically change the type\n",
    "Python changes a variables type dynamically by its values."
   ]
  },
  {
   "cell_type": "code",
   "execution_count": 11,
   "metadata": {
    "collapsed": false
   },
   "outputs": [
    {
     "name": "stdout",
     "output_type": "stream",
     "text": [
      "<type 'long'>\n",
      "<type 'int'>\n"
     ]
    }
   ],
   "source": [
    "a = 9223372036854775809\n",
    "print type(a)\n",
    "\n",
    "a = 10\n",
    "print type(a)"
   ]
  },
  {
   "cell_type": "markdown",
   "metadata": {},
   "source": [
    "### Number Type Conversion\n",
    "\n",
    "\n",
    "* Type int(x) to convert x to a plain integer.\n",
    "\n",
    "* Type long(x) to convert x to a long integer.\n",
    "\n",
    "* Type float(x) to convert x to a floating-point number.\n",
    "\n",
    "* Type complex(x) to convert x to a complex number with real part x and imaginary part zero.\n",
    "\n",
    "* Type complex(x, y) to convert x and y to a complex number with real part x and imaginary part y. x and y are numeric expressions\n"
   ]
  },
  {
   "cell_type": "code",
   "execution_count": 16,
   "metadata": {
    "collapsed": false
   },
   "outputs": [
    {
     "name": "stdout",
     "output_type": "stream",
     "text": [
      "25 25 (75+4j) 25.0\n"
     ]
    }
   ],
   "source": [
    "a = 25\n",
    "\n",
    "b = long(a)\n",
    "c = complex(75,4)\n",
    "d = float(a)\n",
    "\n",
    "print a,b,c,d"
   ]
  },
  {
   "cell_type": "markdown",
   "metadata": {},
   "source": [
    "### Python Strings\n",
    "Python allows for either pairs of single or double quotes. "
   ]
  },
  {
   "cell_type": "code",
   "execution_count": 12,
   "metadata": {
    "collapsed": false
   },
   "outputs": [
    {
     "name": "stdout",
     "output_type": "stream",
     "text": [
      "Python\n",
      "P\n",
      "tho\n",
      "thon\n",
      "PythonPython\n",
      "PythonTEST\n"
     ]
    }
   ],
   "source": [
    "str = 'Python'\n",
    "\n",
    "print str          # Prints complete string\n",
    "print str[0]       # Prints first character of the string\n",
    "print str[2:5]     # Prints characters starting from 3rd to 5th\n",
    "print str[2:]      # Prints string starting from 3rd character\n",
    "print str * 2      # Prints string two times\n",
    "print str + \"TEST\" # Prints concatenated string"
   ]
  },
  {
   "cell_type": "markdown",
   "metadata": {},
   "source": [
    "Python supports negative indexing"
   ]
  },
  {
   "cell_type": "code",
   "execution_count": 14,
   "metadata": {
    "collapsed": false
   },
   "outputs": [
    {
     "name": "stdout",
     "output_type": "stream",
     "text": [
      "!\n",
      "r\n",
      "Hello World\n"
     ]
    }
   ],
   "source": [
    "str = \"Hello World!\"\n",
    "\n",
    "print str[-1]\n",
    "print str[-4]\n",
    "print str[:-1]"
   ]
  },
  {
   "cell_type": "markdown",
   "metadata": {},
   "source": [
    "### Escape Characters\n",
    "\n",
    "|Backslash notation|\tHexadecimal character\t|Description|\n",
    "|---------------------|----------------|-------------------|\n",
    "|\\a\t|0x07|\tBell or alert|\n",
    "|\\b\t|0x08|\tBackspace|\n",
    "|\\cx|\t |\tControl-x|\n",
    "|\\C-x|\t |\tControl-x|\n",
    "|\\e\t|0x1b|\tEscape|\n",
    "|\\f\t|0x0c|\tFormfeed|\n",
    "|\\M-\\C-x||\t \tMeta-Control-x|\n",
    "|\\n\t|0x0a|\tNewline|\n",
    "|\\nnn|\t |\tOctal notation, where n is in the range 0.7|\n",
    "|\\r\t|0x0d\t|Carriage return|\n",
    "|\\s\t|0x20\t|Space|\n",
    "|\\t\t|0x09|\tTab|\n",
    "|\\v\t|0x0b|\tVertical tab|\n",
    "|\\x\t |\t|Character x|\n",
    "|\\xnn|\t |\tHexadecimal notation, where n is in the range 0.9, a.f, or A.F|"
   ]
  },
  {
   "cell_type": "markdown",
   "metadata": {},
   "source": [
    "### Triple Quotes\n",
    "In python Triple Quotes are used for storing a paragraph to a variable"
   ]
  },
  {
   "cell_type": "code",
   "execution_count": 17,
   "metadata": {
    "collapsed": false
   },
   "outputs": [
    {
     "name": "stdout",
     "output_type": "stream",
     "text": [
      "this is a long string that is made up of\n",
      "several lines and non-printable characters such as\n",
      "TAB ( \t ) and they will show up that way when displayed.\n",
      "NEWLINEs within the string, whether explicitly given like\n",
      "this within the brackets [ \n",
      " ], or just a NEWLINE within\n",
      "the variable assignment will also show up.\n",
      "\n"
     ]
    }
   ],
   "source": [
    "\n",
    "para_str = \"\"\"this is a long string that is made up of\n",
    "several lines and non-printable characters such as\n",
    "TAB ( \\t ) and they will show up that way when displayed.\n",
    "NEWLINEs within the string, whether explicitly given like\n",
    "this within the brackets [ \\n ], or just a NEWLINE within\n",
    "the variable assignment will also show up.\n",
    "\"\"\"\n",
    "print para_str"
   ]
  },
  {
   "cell_type": "markdown",
   "metadata": {},
   "source": [
    "### String Formatting Operator\n",
    "This operator is unique to strings and makes up for the pack of having functions from C's printf() family. "
   ]
  },
  {
   "cell_type": "code",
   "execution_count": 18,
   "metadata": {
    "collapsed": false
   },
   "outputs": [
    {
     "name": "stdout",
     "output_type": "stream",
     "text": [
      "My name is xyz and weight is 21 kg!\n"
     ]
    }
   ],
   "source": [
    "print \"My name is %s and weight is %d kg!\" % ('xyz', 21) "
   ]
  },
  {
   "cell_type": "code",
   "execution_count": 19,
   "metadata": {
    "collapsed": false
   },
   "outputs": [
    {
     "name": "stdout",
     "output_type": "stream",
     "text": [
      "My name is Saran and weight is 19 kg!\n"
     ]
    }
   ],
   "source": [
    "x = \"Saran\"\n",
    "age = 19\n",
    "\n",
    "print \"My name is %s and weight is %d kg!\" % (x, age) "
   ]
  },
  {
   "cell_type": "markdown",
   "metadata": {},
   "source": [
    "Format Symbol|\tConversion\n",
    "-----------------|-----------\n",
    "%c |\tcharacter\n",
    "%s |\tstring conversion via str() prior to formatting\n",
    "%i |\tsigned decimal integer\n",
    "%d |\tsigned decimal integer\n",
    "%u |\tunsigned decimal integer\n",
    "%o |\toctal integer\n",
    "%x |\thexadecimal integer (lowercase letters)\n",
    "%X \t|hexadecimal integer (UPPERcase letters)\n",
    "%e \t|exponential notation (with lowercase 'e')\n",
    "%E |\texponential notation (with UPPERcase 'E')\n",
    "%f| \tfloating point real number\n",
    "%g |\tthe shorter of %f and %e\n",
    "%G \t|the shorter of %f and %E"
   ]
  },
  {
   "cell_type": "markdown",
   "metadata": {},
   "source": [
    "### Unicode String\n",
    "Normal strings in Python are stored internally as 8-bit ASCII, while Unicode strings are stored as 16-bit Unicode."
   ]
  },
  {
   "cell_type": "code",
   "execution_count": 20,
   "metadata": {
    "collapsed": false
   },
   "outputs": [
    {
     "name": "stdout",
     "output_type": "stream",
     "text": [
      "Hello, world!\n"
     ]
    }
   ],
   "source": [
    "print u'Hello, world!'"
   ]
  },
  {
   "cell_type": "markdown",
   "metadata": {},
   "source": [
    "### Some Built in Functions"
   ]
  },
  {
   "cell_type": "code",
   "execution_count": 21,
   "metadata": {
    "collapsed": false
   },
   "outputs": [
    {
     "name": "stdout",
     "output_type": "stream",
     "text": [
      "Hello\n",
      "#################hello##################\n"
     ]
    }
   ],
   "source": [
    "s = \"hello\"\n",
    "\n",
    "print s.capitalize()\n",
    "print s.center(40,'#')\n"
   ]
  },
  {
   "cell_type": "code",
   "execution_count": 1,
   "metadata": {
    "collapsed": false
   },
   "outputs": [
    {
     "name": "stdout",
     "output_type": "stream",
     "text": [
      "False\n",
      "True\n"
     ]
    }
   ],
   "source": [
    "str = u\"year2009\";  \n",
    "print str.isdecimal();\n",
    "\n",
    "str = u\"23443434\";\n",
    "print str.isdecimal();"
   ]
  },
  {
   "cell_type": "code",
   "execution_count": 2,
   "metadata": {
    "collapsed": false
   },
   "outputs": [
    {
     "name": "stdout",
     "output_type": "stream",
     "text": [
      "True\n",
      "False\n"
     ]
    }
   ],
   "source": [
    "str = \"This Is String Example...Wow!!!\";\n",
    "print str.istitle()\n",
    "\n",
    "str = \"This is string example....wow!!!\";\n",
    "print str.istitle()"
   ]
  },
  {
   "cell_type": "markdown",
   "metadata": {},
   "source": [
    "# References \n",
    "<h2>Mathematical Functions</h2>\n",
    "<p>Python includes following functions that perform mathematical calculations.</p>\n",
    "<table class=\"table table-bordered\">\n",
    "<tr>\n",
    "<th style=\"width:25%;\">Function</th><th>Returns ( description )</th></tr>\n",
    "<tr><td><p><a href=\"https://www.tutorialspoint.com/python/number_abs.htm\">abs(x)</a></p></td>\n",
    "<td>The absolute value of x: the (positive) distance between x and zero.</td></tr>\n",
    "<tr><td><p><a href=\"https://www.tutorialspoint.com/python/number_ceil.htm\">ceil(x) </a></p></td>\n",
    "<td>The ceiling of x: the smallest integer not less than x</td></tr>\n",
    "<tr><td><p><a href=\"https://www.tutorialspoint.com/python/number_cmp.htm\">cmp(x, y)</a></p></td><td>-1 if x &lt; y, 0 if x == y, or 1 if x &gt; y </td></tr>\n",
    "<tr><td><p><a href=\"https://www.tutorialspoint.com/python/number_exp.htm\">exp(x) </a></p></td><td>The exponential of x: e<sup>x</sup> </td></tr>\n",
    "<tr><td><p><a href=\"https://www.tutorialspoint.com/python/number_fabs.htm\">fabs(x)</a></p></td><td>The absolute value of x.</td></tr>\n",
    "<tr><td><p><a href=\"https://www.tutorialspoint.com/python/number_floor.htm\">floor(x) </a></p></td><td>The floor of x: the largest integer not greater than x</td></tr>\n",
    "<tr><td><p><a href=\"https://www.tutorialspoint.com/python/number_log.htm\">log(x) </a></p></td><td>The natural logarithm of x, for x&gt; 0 </td></tr>\n",
    "<tr><td><p><a href=\"https://www.tutorialspoint.com/python/number_log10.htm\">log10(x) </a></p></td><td>The base-10 logarithm of x for x&gt; 0 .</td></tr>\n",
    "<tr><td><p><a href=\"https://www.tutorialspoint.com/python/number_max.htm\">max(x1, x2,...) </a></p></td><td>The largest of its arguments: the value closest to positive infinity </td></tr>\n",
    "<tr><td><p><a href=\"https://www.tutorialspoint.com/python/number_min.htm\">min(x1, x2,...) </a></p></td><td>The smallest of its arguments: the value closest to negative infinity </td></tr>\n",
    "<tr><td><p><a href=\"https://www.tutorialspoint.com/python/number_modf.htm\">modf(x) </a></p></td>\n",
    "<td>The fractional and integer parts of x in a two-item tuple. Both parts have the same sign as x. The integer part is returned as a float.</td></tr>\n",
    "<tr><td><p><a href=\"https://www.tutorialspoint.com/python/number_pow.htm\">pow(x, y)</a></p></td><td>The value of x**y.</td></tr>\n",
    "<tr><td><p><a href=\"https://www.tutorialspoint.com/python/number_round.htm\">round(x [,n])</a></p></td><td><b>x</b> rounded to n digits from the decimal point. Python rounds away from zero as a tie-breaker: round(0.5) is 1.0 and round(-0.5) is -1.0.</td></tr>\n",
    "<tr><td><p><a href=\"https://www.tutorialspoint.com/python/number_sqrt.htm\">sqrt(x) </a></p></td><td>The square root of x for x &gt; 0</td></tr>\n",
    "</table>\n",
    "<h2>Random Number Functions</h2>\n",
    "<p>Random numbers are used for games, simulations, testing, security, and privacy applications. Python includes following functions that are commonly used.</p>\n",
    "<table class=\"table table-bordered\">\n",
    "<tr>\n",
    "<th style=\"width:25%;\">Function</th><th>Description</th></tr>\n",
    "<tr><td><p><a href=\"https://www.tutorialspoint.com/python/number_choice.htm\">choice(seq)</a></p></td>\n",
    "<td>A random item from a list, tuple, or string.</td></tr>\n",
    "<tr><td><p><a href=\"https://www.tutorialspoint.com/python/number_randrange.htm\">randrange ([start,] stop [,step]) </a></p></td>\n",
    "<td>A randomly selected element from range(start, stop, step)</td></tr>\n",
    "<tr><td><p><a href=\"https://www.tutorialspoint.com/python/number_random.htm\">random() </a></p></td>\n",
    "<td>A random float r, such that 0 is less than or equal to r and r is less than 1</td></tr>\n",
    "<tr><td><p><a href=\"https://www.tutorialspoint.com/python/number_seed.htm\">seed([x]) </a></p></td>\n",
    "<td>Sets the integer starting value used in generating random numbers. Call this function before calling any other random module function. Returns None.</td></tr>\n",
    "<tr>\n",
    "<td><p><a href=\"https://www.tutorialspoint.com/python/number_shuffle.htm\">shuffle(lst) </a></p></td>\n",
    "<td>Randomizes the items of a list in place. Returns None.</td></tr>\n",
    "<tr><td><p><a href=\"https://www.tutorialspoint.com/python/number_uniform.htm\">uniform(x, y)</a></p></td>\n",
    "<td>A random float r, such that x is less than or equal to r and r is less than y </td></tr>\n",
    "</table>\n",
    "<h2>Trigonometric Functions</h2>\n",
    "<p>Python includes following functions that perform trigonometric calculations.</p>\n",
    "<table class=\"table table-bordered\">\n",
    "<tr>\n",
    "<th style=\"width:25%;\">Function</th><th>Description</th></tr>\n",
    "<tr>\n",
    "<td><p><a href=\"https://www.tutorialspoint.com/python/number_acos.htm\">acos(x)</a></p></td>\n",
    "<td>Return the arc cosine of x, in radians.</td></tr>\n",
    "<tr>\n",
    "<td><p><a href=\"https://www.tutorialspoint.com/python/number_asin.htm\">asin(x)</a></p></td>\n",
    "<td>Return the arc sine of x, in radians.</td></tr>\n",
    "<tr>\n",
    "<td><p><a href=\"https://www.tutorialspoint.com/python/number_atan.htm\">atan(x)</a></p></td>\n",
    "<td>Return the arc tangent of x, in radians.</td></tr>\n",
    "<tr>\n",
    "<td><p><a href=\"https://www.tutorialspoint.com/python/number_atan2.htm\">atan2(y, x)</a></p></td>\n",
    "<td>Return atan(y / x), in radians. </td></tr>\n",
    "<tr>\n",
    "<td><p><a href=\"https://www.tutorialspoint.com/python/number_cos.htm\">cos(x)</a></p></td>\n",
    "<td>Return the cosine of x radians.</td></tr>\n",
    "<tr>\n",
    "<td><p><a href=\"https://www.tutorialspoint.com/python/number_hypot.htm\">hypot(x, y)</a></p></td>\n",
    "<td>Return the Euclidean norm, sqrt(x*x + y*y). </td></tr>\n",
    "<tr>\n",
    "<td><p><a href=\"https://www.tutorialspoint.com/python/number_sin.htm\">sin(x)</a></p></td>\n",
    "<td>Return the sine of x radians.</td></tr>\n",
    "<tr>\n",
    "<td><p><a href=\"https://www.tutorialspoint.com/python/number_tan.htm\">tan(x)</a></p></td>\n",
    "<td>Return the tangent of x radians.</td></tr>\n",
    "<tr>\n",
    "<td><p><a href=\"https://www.tutorialspoint.com/python/number_degrees.htm\">degrees(x)</a></p></td>\n",
    "<td>Converts angle x from radians to degrees.</td></tr>\n",
    "<tr>\n",
    "<td><p><a href=\"https://www.tutorialspoint.com/python/number_radians.htm\">radians(x)</a></p></td>\n",
    "<td>Converts angle x from degrees to radians.</td></tr>\n",
    "</table>\n",
    "\n",
    "<h2>Built-in String Methods</h2>\n",
    "<p>Python includes the following built-in methods to manipulate strings &minus;</p>\n",
    "<table class=\"table table-bordered\">\n",
    "<tr>\n",
    "<th style=\"width:5%\">SN</th><th>Methods with Description</th></tr>\n",
    "<tr><td>1</td><td><p><a href=\"https://www.tutorialspoint.com/python/string_capitalize.htm\">capitalize()</a><br />Capitalizes first letter of string</td></tr>\n",
    "<tr><td>2</td><td><p><a href=\"https://www.tutorialspoint.com/python/string_center.htm\">center(width, fillchar)</a></p><br />Returns a space-padded string with the original string centered to a total of width columns.</td></tr>\n",
    "<tr><td>3</td><td><p><a href=\"https://www.tutorialspoint.com/python/string_count.htm\">count(str, beg= 0,end=len(string))</a></p><br />Counts how many times str occurs in string or in a substring of string if starting index beg and ending index end are given.</td></tr>\n",
    "<tr><td>4</td><td><p><a href=\"https://www.tutorialspoint.com/python/string_decode.htm\">decode(encoding='UTF-8',errors='strict')</a></p><br />Decodes the string using the codec registered for encoding. encoding defaults to the default string encoding.</td></tr>\n",
    "<tr><td>5</td><td><p><a href=\"https://www.tutorialspoint.com/python/string_encode.htm\">encode(encoding='UTF-8',errors='strict')</a></p><br />Returns encoded string version of string; on error, default is to raise a ValueError unless errors is given with 'ignore' or 'replace'.</td></tr>\n",
    "<tr><td>6</td><td><p><a href=\"https://www.tutorialspoint.com/python/string_endswith.htm\">endswith(suffix, beg=0, end=len(string))</a><br />Determines if string or a substring of string (if starting index beg and ending index end are given) ends with suffix; returns true if so and false otherwise.</td></tr>\n",
    "<tr><td>7</td><td><p><a href=\"https://www.tutorialspoint.com/python/string_expandtabs.htm\">expandtabs(tabsize=8)</a></p><br />Expands tabs in string to multiple spaces; defaults to 8 spaces per tab if tabsize not provided.</td></tr>\n",
    "<tr><td>8</td><td><p><a href=\"https://www.tutorialspoint.com/python/string_find.htm\">find(str, beg=0 end=len(string))</a></p><br />Determine if str occurs in string or in a substring of string if starting index beg and ending index end are given returns index if found and -1 otherwise.</td></tr>\n",
    "<tr><td>9</td><td><p><a href=\"https://www.tutorialspoint.com/python/string_index.htm\">index(str, beg=0, end=len(string))</a></p><br />Same as find(), but raises an exception if str not found.</td></tr>\n",
    "<tr><td>10</td><td><p><a href=\"https://www.tutorialspoint.com/python/string_isalnum.htm\">isalnum()</a></p><br />Returns true if string has at least 1 character and all characters are alphanumeric and false otherwise.</td></tr>\n",
    "<tr><td>11</td><td><p><a href=\"https://www.tutorialspoint.com/python/string_isalpha.htm\">isalpha()</a></p><br />Returns true if string has at least 1 character and all characters are alphabetic and false otherwise.</td></tr>\n",
    "<tr><td>12</td><td><p><a href=\"https://www.tutorialspoint.com/python/string_isdigit.htm\">isdigit()</a></p><br />Returns true if string contains only digits and false otherwise.</td></tr>\n",
    "<tr><td>13</td><td><p><a href=\"https://www.tutorialspoint.com/python/string_islower.htm\">islower()</a></p><br />Returns true if string has at least 1 cased character and all cased characters are in lowercase and false otherwise.</td></tr>\n",
    "<tr><td>14</td><td><p><a href=\"https://www.tutorialspoint.com/python/string_isnumeric.htm\">isnumeric()</a></p><br />Returns true if a unicode string contains only numeric characters and false otherwise.</td></tr>\n",
    "<tr><td>15</td><td><p><a href=\"https://www.tutorialspoint.com/python/string_isspace.htm\">isspace()</a></p><br />Returns true if string contains only whitespace characters and false otherwise.</td></tr>\n",
    "<tr><td>16</td><td><p><a href=\"https://www.tutorialspoint.com/python/string_istitle.htm\">istitle()</a></p><br />Returns true if string is properly \"titlecased\" and false otherwise.</td></tr>\n",
    "<tr><td>17</td><td><p><a href=\"https://www.tutorialspoint.com/python/string_isupper.htm\">isupper()</a></p><br />Returns true if string has at least one cased character and all cased characters are in uppercase and false otherwise.</td></tr>\n",
    "<tr><td>18</td><td><p><a href=\"https://www.tutorialspoint.com/python/string_join.htm\">join(seq)</a></p><br />Merges (concatenates) the string representations of elements in sequence seq into a string, with separator string.</td></tr>\n",
    "<tr><td>19</td><td><p><a href=\"https://www.tutorialspoint.com/python/string_len.htm\">len(string)</a></p><br />Returns the length of the string</td></tr>\n",
    "<tr><td>20</td><td><p><a href=\"https://www.tutorialspoint.com/python/string_ljust.htm\">ljust(width[, fillchar])</a></p><br />Returns a space-padded string with the original string left-justified to a total of width columns.</td></tr>\n",
    "<tr><td>21</td><td><p><a href=\"https://www.tutorialspoint.com/python/string_lower.htm\">lower()</a></p><br />Converts all uppercase letters in string to lowercase.</td></tr>\n",
    "<tr><td>22</td><td><p><a href=\"https://www.tutorialspoint.com/python/string_lstrip.htm\">lstrip()</a></p><br />Removes all leading whitespace in string.</td></tr>\n",
    "<tr><td>23</td><td><p><a href=\"https://www.tutorialspoint.com/python/string_maketrans.htm\">maketrans()</a></p><br />Returns a translation table to be used in translate function.</td></tr>\n",
    "<tr><td>24</td><td><p><a href=\"https://www.tutorialspoint.com/python/string_max.htm\">max(str)</a></p><br />Returns the max alphabetical character from the string str.</td></tr>\n",
    "<tr><td>25</td><td><p><a href=\"https://www.tutorialspoint.com/python/string_min.htm\">min(str)</a></p><br />Returns the min alphabetical character from the string str.</td></tr>\n",
    "<tr><td>26</td><td><p><a href=\"https://www.tutorialspoint.com/python/string_replace.htm\">replace(old, new [, max])</a></p><br />Replaces all occurrences of old in string with new or at most max occurrences if max given.</td></tr>\n",
    "<tr><td>27</td><td><p><a href=\"https://www.tutorialspoint.com/python/string_rfind.htm\">rfind(str, beg=0,end=len(string))</a></p><br />Same as find(), but search\n",
    "backwards in string.</td></tr>\n",
    "<tr><td>28</td><td><p><a href=\"https://www.tutorialspoint.com/python/string_rindex.htm\">rindex( str, beg=0, end=len(string))</a></p><br />Same as index(), but search backwards in string.</td></tr>\n",
    "<tr><td>29</td><td><p><a href=\"https://www.tutorialspoint.com/python/string_rjust.htm\">rjust(width,[, fillchar])</a></p><br />Returns a space-padded string with the original string right-justified to a total of\n",
    "width columns.</td></tr>\n",
    "<tr><td>30</td><td><p><a href=\"https://www.tutorialspoint.com/python/string_rstrip.htm\">rstrip()</a></p><br />Removes all trailing whitespace of string.</td></tr>\n",
    "<tr><td>31</td><td><p><a href=\"https://www.tutorialspoint.com/python/string_split.htm\">split(str=\"\", num=string.count(str))</a></p><br />Splits string according to delimiter str (space if not\n",
    "provided) and returns list of substrings; split into at most num substrings if given.</td></tr>\n",
    "<tr><td>32</td><td><p><a href=\"https://www.tutorialspoint.com/python/string_splitlines.htm\">splitlines( num=string.count('\\n'))</a></p><br />Splits string at all (or num) NEWLINEs and returns a list of\n",
    "each line with NEWLINEs removed.</td></tr>\n",
    "<tr><td>33</td><td><p><a href=\"https://www.tutorialspoint.com/python/string_startswith.htm\">startswith(str, beg=0,end=len(string))</a></p><br />Determines if string or a substring of string (if starting index beg and ending index end are given) starts with substring str; returns true if so and false otherwise.</td></tr>\n",
    "<tr><td>34</td><td><p><a href=\"https://www.tutorialspoint.com/python/string_strip.htm\">strip([chars])</a></p><br />Performs both lstrip() and rstrip() on string</td></tr>\n",
    "<tr><td>35</td><td><p><a href=\"https://www.tutorialspoint.com/python/string_swapcase.htm\">swapcase()</a></p><br />Inverts case for all letters in string.</td></tr>\n",
    "<tr><td>36</td><td><p><a href=\"https://www.tutorialspoint.com/python/string_title.htm\">title()</a></p><br />Returns \"titlecased\" version of string, that is, all words begin with uppercase and the rest are lowercase.</td></tr>\n",
    "<tr><td>37</td><td><p><a href=\"https://www.tutorialspoint.com/python/string_translate.htm\">translate(table, deletechars=\"\")</a></p><br />Translates string according to translation table str(256 chars), removing those in the del string.</td></tr>\n",
    "<tr><td>38</td><td><p><a href=\"https://www.tutorialspoint.com/python/string_upper.htm\">upper()</a></p><br />Converts lowercase letters in string to uppercase.</td></tr>\n",
    "<tr><td>39</td><td><p><a href=\"https://www.tutorialspoint.com/python/string_zfill.htm\">zfill (width)</a></p><br />Returns original string leftpadded with zeros to a total of width characters; intended for numbers, zfill() retains any sign given (less one zero).</td></tr>\n",
    "<tr><td>40</td><td><p><a href=\"https://www.tutorialspoint.com/python/string_isdecimal.htm\">isdecimal()</a></p><br />Returns true if a unicode string contains only decimal characters and false otherwise.</td></tr>\n",
    "</table>"
   ]
  }
 ],
 "metadata": {
  "kernelspec": {
   "display_name": "Python 2",
   "language": "python",
   "name": "python2"
  },
  "language_info": {
   "codemirror_mode": {
    "name": "ipython",
    "version": 2
   },
   "file_extension": ".py",
   "mimetype": "text/x-python",
   "name": "python",
   "nbconvert_exporter": "python",
   "pygments_lexer": "ipython2",
   "version": "2.7.12"
  }
 },
 "nbformat": 4,
 "nbformat_minor": 2
}
