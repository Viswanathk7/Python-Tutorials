{
 "cells": [
  {
   "cell_type": "markdown",
   "metadata": {},
   "source": [
    "# Python Tutorial - 2"
   ]
  },
  {
   "cell_type": "markdown",
   "metadata": {},
   "source": [
    "### Assigning Values to Variables\n",
    "Python is a **weakly typed language**. So, There is no need for explicitly mentioning the variable type."
   ]
  },
  {
   "cell_type": "code",
   "execution_count": 1,
   "metadata": {
    "collapsed": false
   },
   "outputs": [
    {
     "name": "stdout",
     "output_type": "stream",
     "text": [
      "100\n",
      "1000.0\n",
      "xyz\n"
     ]
    }
   ],
   "source": [
    "i = 100          # An integer assignment\n",
    "f   = 1000.0       # A floating point\n",
    "s    = \"xyz\"       # A string\n",
    "\n",
    "print i\n",
    "print f\n",
    "print s"
   ]
  },
  {
   "cell_type": "markdown",
   "metadata": {},
   "source": [
    "### Multiple Assignment"
   ]
  },
  {
   "cell_type": "code",
   "execution_count": 2,
   "metadata": {
    "collapsed": false
   },
   "outputs": [
    {
     "name": "stdout",
     "output_type": "stream",
     "text": [
      "1 1 1\n",
      "xyz 20\n"
     ]
    }
   ],
   "source": [
    "a = b = c = 1\n",
    "name, age = \"xyz\",20\n",
    "print a,b,c\n",
    "print name,age"
   ]
  },
  {
   "cell_type": "markdown",
   "metadata": {},
   "source": [
    "### Del Operation\n",
    "Python supports De-allocation of variables which can be done mannually using the *del* keyword"
   ]
  },
  {
   "cell_type": "code",
   "execution_count": 3,
   "metadata": {
    "collapsed": false
   },
   "outputs": [
    {
     "name": "stdout",
     "output_type": "stream",
     "text": [
      "10"
     ]
    },
    {
     "ename": "NameError",
     "evalue": "name 'b' is not defined",
     "output_type": "error",
     "traceback": [
      "\u001b[0;31m---------------------------------------------------------------------------\u001b[0m",
      "\u001b[0;31mNameError\u001b[0m                                 Traceback (most recent call last)",
      "\u001b[0;32m<ipython-input-3-505a26e653a8>\u001b[0m in \u001b[0;36m<module>\u001b[0;34m()\u001b[0m\n\u001b[1;32m      1\u001b[0m \u001b[0ma\u001b[0m\u001b[0;34m,\u001b[0m\u001b[0mb\u001b[0m \u001b[0;34m=\u001b[0m \u001b[0;36m10\u001b[0m\u001b[0;34m,\u001b[0m\u001b[0;36m20\u001b[0m\u001b[0;34m\u001b[0m\u001b[0m\n\u001b[1;32m      2\u001b[0m \u001b[0;32mdel\u001b[0m \u001b[0mb\u001b[0m\u001b[0;34m\u001b[0m\u001b[0m\n\u001b[0;32m----> 3\u001b[0;31m \u001b[0;32mprint\u001b[0m \u001b[0ma\u001b[0m\u001b[0;34m,\u001b[0m\u001b[0mb\u001b[0m\u001b[0;34m\u001b[0m\u001b[0m\n\u001b[0m",
      "\u001b[0;31mNameError\u001b[0m: name 'b' is not defined"
     ]
    }
   ],
   "source": [
    "a,b = 10,20\n",
    "del b\n",
    "print a,b"
   ]
  },
  {
   "cell_type": "markdown",
   "metadata": {},
   "source": [
    "It supports for deleting multiple variables also."
   ]
  },
  {
   "cell_type": "code",
   "execution_count": 4,
   "metadata": {
    "collapsed": false
   },
   "outputs": [
    {
     "name": "stdout",
     "output_type": "stream",
     "text": [
      " 1 2"
     ]
    },
    {
     "ename": "NameError",
     "evalue": "name 'c' is not defined",
     "output_type": "error",
     "traceback": [
      "\u001b[0;31m---------------------------------------------------------------------------\u001b[0m",
      "\u001b[0;31mNameError\u001b[0m                                 Traceback (most recent call last)",
      "\u001b[0;32m<ipython-input-4-1d08130de540>\u001b[0m in \u001b[0;36m<module>\u001b[0;34m()\u001b[0m\n\u001b[1;32m      1\u001b[0m \u001b[0ma\u001b[0m\u001b[0;34m,\u001b[0m\u001b[0mb\u001b[0m\u001b[0;34m,\u001b[0m\u001b[0mc\u001b[0m\u001b[0;34m,\u001b[0m\u001b[0md\u001b[0m\u001b[0;34m,\u001b[0m\u001b[0me\u001b[0m \u001b[0;34m=\u001b[0m \u001b[0;36m1\u001b[0m\u001b[0;34m,\u001b[0m\u001b[0;36m2\u001b[0m\u001b[0;34m,\u001b[0m\u001b[0;36m3\u001b[0m\u001b[0;34m,\u001b[0m\u001b[0;36m4\u001b[0m\u001b[0;34m,\u001b[0m\u001b[0;36m5\u001b[0m\u001b[0;34m\u001b[0m\u001b[0m\n\u001b[1;32m      2\u001b[0m \u001b[0;32mdel\u001b[0m \u001b[0mc\u001b[0m\u001b[0;34m,\u001b[0m\u001b[0md\u001b[0m\u001b[0;34m,\u001b[0m\u001b[0me\u001b[0m\u001b[0;34m\u001b[0m\u001b[0m\n\u001b[0;32m----> 3\u001b[0;31m \u001b[0;32mprint\u001b[0m \u001b[0ma\u001b[0m\u001b[0;34m,\u001b[0m\u001b[0mb\u001b[0m\u001b[0;34m,\u001b[0m\u001b[0mc\u001b[0m\u001b[0;34m,\u001b[0m\u001b[0md\u001b[0m\u001b[0;34m,\u001b[0m\u001b[0me\u001b[0m\u001b[0;34m\u001b[0m\u001b[0m\n\u001b[0m",
      "\u001b[0;31mNameError\u001b[0m: name 'c' is not defined"
     ]
    }
   ],
   "source": [
    "a,b,c,d,e = 1,2,3,4,5\n",
    "del c,d,e\n",
    "print a,b,c,d,e"
   ]
  },
  {
   "cell_type": "markdown",
   "metadata": {},
   "source": [
    "### Datatypes\n",
    "Python has five standard data types −\n",
    "\n",
    "* Numbers\n",
    "\n",
    "* String\n",
    "\n",
    "* List\n",
    "\n",
    "* Tuple\n",
    "\n",
    "* Dictionary\n"
   ]
  },
  {
   "cell_type": "markdown",
   "metadata": {},
   "source": [
    "### Getting Type of the variable"
   ]
  },
  {
   "cell_type": "code",
   "execution_count": 6,
   "metadata": {
    "collapsed": false
   },
   "outputs": [
    {
     "name": "stdout",
     "output_type": "stream",
     "text": [
      "<type 'int'>\n",
      "<type 'float'>\n",
      "<type 'str'>\n"
     ]
    }
   ],
   "source": [
    "a,b,c = 1,2.0,\"xyz\"\n",
    "print type(a)\n",
    "print type(b)\n",
    "print type(c)"
   ]
  },
  {
   "cell_type": "markdown",
   "metadata": {},
   "source": [
    "### Numbers\n",
    "\n",
    "\n",
    "* int (signed integers)\n",
    "\n",
    "* long (long integers, they can also be represented in octal and hexadecimal)\n",
    "\n",
    "* float (floating point real values)\n",
    "\n",
    "* complex (complex numbers)\n"
   ]
  },
  {
   "cell_type": "code",
   "execution_count": 7,
   "metadata": {
    "collapsed": false
   },
   "outputs": [
    {
     "name": "stdout",
     "output_type": "stream",
     "text": [
      "20 535633629843 290 2.34j\n",
      "<type 'int'> <type 'long'> <type 'int'> <type 'complex'>\n"
     ]
    }
   ],
   "source": [
    "i = 20\n",
    "l1 = 535633629843L\n",
    "l2 = 0x122\n",
    "c = 2.34j\n",
    "\n",
    "print i,l1,l2,c\n",
    "print type(i),type(l1),type(l2),type(c)"
   ]
  },
  {
   "cell_type": "code",
   "execution_count": 8,
   "metadata": {
    "collapsed": false
   },
   "outputs": [
    {
     "name": "stdout",
     "output_type": "stream",
     "text": [
      "9223372036854775807\n"
     ]
    }
   ],
   "source": [
    "import sys\n",
    "\n",
    "print sys.maxint #This is the maximum range for integer"
   ]
  },
  {
   "cell_type": "code",
   "execution_count": 10,
   "metadata": {
    "collapsed": false
   },
   "outputs": [
    {
     "name": "stdout",
     "output_type": "stream",
     "text": [
      "<type 'long'>\n",
      "<type 'int'>\n"
     ]
    }
   ],
   "source": [
    "a = 9223372036854775809\n",
    "b = 9223372036854775806\n",
    "print type(a)\n",
    "print type(b)"
   ]
  },
  {
   "cell_type": "markdown",
   "metadata": {},
   "source": [
    "### Dynamically change the type\n",
    "Python changes a variables type dynamically by its values."
   ]
  },
  {
   "cell_type": "code",
   "execution_count": 11,
   "metadata": {
    "collapsed": false
   },
   "outputs": [
    {
     "name": "stdout",
     "output_type": "stream",
     "text": [
      "<type 'long'>\n",
      "<type 'int'>\n"
     ]
    }
   ],
   "source": [
    "a = 9223372036854775809\n",
    "print type(a)\n",
    "\n",
    "a = 10\n",
    "print type(a)"
   ]
  },
  {
   "cell_type": "markdown",
   "metadata": {},
   "source": [
    "### Number Type Conversion\n",
    "\n",
    "\n",
    "* Type int(x) to convert x to a plain integer.\n",
    "\n",
    "* Type long(x) to convert x to a long integer.\n",
    "\n",
    "* Type float(x) to convert x to a floating-point number.\n",
    "\n",
    "* Type complex(x) to convert x to a complex number with real part x and imaginary part zero.\n",
    "\n",
    "* Type complex(x, y) to convert x and y to a complex number with real part x and imaginary part y. x and y are numeric expressions\n"
   ]
  },
  {
   "cell_type": "code",
   "execution_count": 16,
   "metadata": {
    "collapsed": false
   },
   "outputs": [
    {
     "name": "stdout",
     "output_type": "stream",
     "text": [
      "25 25 (75+4j) 25.0\n"
     ]
    }
   ],
   "source": [
    "a = 25\n",
    "\n",
    "b = long(a)\n",
    "c = complex(75,4)\n",
    "d = float(a)\n",
    "\n",
    "print a,b,c,d"
   ]
  },
  {
   "cell_type": "markdown",
   "metadata": {},
   "source": [
    "### Python Strings\n",
    "Python allows for either pairs of single or double quotes. "
   ]
  },
  {
   "cell_type": "code",
   "execution_count": 12,
   "metadata": {
    "collapsed": false
   },
   "outputs": [
    {
     "name": "stdout",
     "output_type": "stream",
     "text": [
      "Python\n",
      "P\n",
      "tho\n",
      "thon\n",
      "PythonPython\n",
      "PythonTEST\n"
     ]
    }
   ],
   "source": [
    "str = 'Python'\n",
    "\n",
    "print str          # Prints complete string\n",
    "print str[0]       # Prints first character of the string\n",
    "print str[2:5]     # Prints characters starting from 3rd to 5th\n",
    "print str[2:]      # Prints string starting from 3rd character\n",
    "print str * 2      # Prints string two times\n",
    "print str + \"TEST\" # Prints concatenated string"
   ]
  },
  {
   "cell_type": "markdown",
   "metadata": {},
   "source": [
    "Python supports negative indexing"
   ]
  },
  {
   "cell_type": "code",
   "execution_count": 14,
   "metadata": {
    "collapsed": false
   },
   "outputs": [
    {
     "name": "stdout",
     "output_type": "stream",
     "text": [
      "!\n",
      "r\n",
      "Hello World\n"
     ]
    }
   ],
   "source": [
    "str = \"Hello World!\"\n",
    "\n",
    "print str[-1]\n",
    "print str[-4]\n",
    "print str[:-1]"
   ]
  },
  {
   "cell_type": "markdown",
   "metadata": {},
   "source": [
    "### Escape Characters\n",
    "\n",
    "|Backslash notation|\tHexadecimal character\t|Description|\n",
    "|---------------------|----------------|-------------------|\n",
    "|\\a\t|0x07|\tBell or alert|\n",
    "|\\b\t|0x08|\tBackspace|\n",
    "|\\cx|\t |\tControl-x|\n",
    "|\\C-x|\t |\tControl-x|\n",
    "|\\e\t|0x1b|\tEscape|\n",
    "|\\f\t|0x0c|\tFormfeed|\n",
    "|\\M-\\C-x||\t \tMeta-Control-x|\n",
    "|\\n\t|0x0a|\tNewline|\n",
    "|\\nnn|\t |\tOctal notation, where n is in the range 0.7|\n",
    "|\\r\t|0x0d\t|Carriage return|\n",
    "|\\s\t|0x20\t|Space|\n",
    "|\\t\t|0x09|\tTab|\n",
    "|\\v\t|0x0b|\tVertical tab|\n",
    "|\\x\t |\t|Character x|\n",
    "|\\xnn|\t |\tHexadecimal notation, where n is in the range 0.9, a.f, or A.F|"
   ]
  },
  {
   "cell_type": "markdown",
   "metadata": {},
   "source": [
    "### Triple Quotes\n",
    "In python Triple Quotes are used for storing a paragraph to a variable"
   ]
  },
  {
   "cell_type": "code",
   "execution_count": 17,
   "metadata": {
    "collapsed": false
   },
   "outputs": [
    {
     "name": "stdout",
     "output_type": "stream",
     "text": [
      "this is a long string that is made up of\n",
      "several lines and non-printable characters such as\n",
      "TAB ( \t ) and they will show up that way when displayed.\n",
      "NEWLINEs within the string, whether explicitly given like\n",
      "this within the brackets [ \n",
      " ], or just a NEWLINE within\n",
      "the variable assignment will also show up.\n",
      "\n"
     ]
    }
   ],
   "source": [
    "\n",
    "para_str = \"\"\"this is a long string that is made up of\n",
    "several lines and non-printable characters such as\n",
    "TAB ( \\t ) and they will show up that way when displayed.\n",
    "NEWLINEs within the string, whether explicitly given like\n",
    "this within the brackets [ \\n ], or just a NEWLINE within\n",
    "the variable assignment will also show up.\n",
    "\"\"\"\n",
    "print para_str"
   ]
  },
  {
   "cell_type": "markdown",
   "metadata": {},
   "source": [
    "### String Formatting Operator\n",
    "This operator is unique to strings and makes up for the pack of having functions from C's printf() family. "
   ]
  },
  {
   "cell_type": "code",
   "execution_count": 18,
   "metadata": {
    "collapsed": false
   },
   "outputs": [
    {
     "name": "stdout",
     "output_type": "stream",
     "text": [
      "My name is xyz and weight is 21 kg!\n"
     ]
    }
   ],
   "source": [
    "print \"My name is %s and weight is %d kg!\" % ('xyz', 21) "
   ]
  },
  {
   "cell_type": "code",
   "execution_count": 19,
   "metadata": {
    "collapsed": false
   },
   "outputs": [
    {
     "name": "stdout",
     "output_type": "stream",
     "text": [
      "My name is Saran and weight is 19 kg!\n"
     ]
    }
   ],
   "source": [
    "x = \"Saran\"\n",
    "age = 19\n",
    "\n",
    "print \"My name is %s and weight is %d kg!\" % (x, age) "
   ]
  },
  {
   "cell_type": "markdown",
   "metadata": {},
   "source": [
    "Format Symbol|\tConversion\n",
    "-----------------|-----------\n",
    "%c |\tcharacter\n",
    "%s |\tstring conversion via str() prior to formatting\n",
    "%i |\tsigned decimal integer\n",
    "%d |\tsigned decimal integer\n",
    "%u |\tunsigned decimal integer\n",
    "%o |\toctal integer\n",
    "%x |\thexadecimal integer (lowercase letters)\n",
    "%X \t|hexadecimal integer (UPPERcase letters)\n",
    "%e \t|exponential notation (with lowercase 'e')\n",
    "%E |\texponential notation (with UPPERcase 'E')\n",
    "%f| \tfloating point real number\n",
    "%g |\tthe shorter of %f and %e\n",
    "%G \t|the shorter of %f and %E"
   ]
  },
  {
   "cell_type": "markdown",
   "metadata": {},
   "source": [
    "### Unicode String\n",
    "Normal strings in Python are stored internally as 8-bit ASCII, while Unicode strings are stored as 16-bit Unicode."
   ]
  },
  {
   "cell_type": "code",
   "execution_count": 20,
   "metadata": {
    "collapsed": false
   },
   "outputs": [
    {
     "name": "stdout",
     "output_type": "stream",
     "text": [
      "Hello, world!\n"
     ]
    }
   ],
   "source": [
    "print u'Hello, world!'"
   ]
  },
  {
   "cell_type": "markdown",
   "metadata": {},
   "source": [
    "### Some Built in Functions"
   ]
  },
  {
   "cell_type": "code",
   "execution_count": 21,
   "metadata": {
    "collapsed": false
   },
   "outputs": [
    {
     "name": "stdout",
     "output_type": "stream",
     "text": [
      "Hello\n",
      "#################hello##################\n"
     ]
    }
   ],
   "source": [
    "s = \"hello\"\n",
    "\n",
    "print s.capitalize()\n",
    "print s.center(40,'#')\n"
   ]
  },
  {
   "cell_type": "code",
   "execution_count": 1,
   "metadata": {
    "collapsed": false
   },
   "outputs": [
    {
     "name": "stdout",
     "output_type": "stream",
     "text": [
      "False\n",
      "True\n"
     ]
    }
   ],
   "source": [
    "str = u\"year2009\";  \n",
    "print str.isdecimal();\n",
    "\n",
    "str = u\"23443434\";\n",
    "print str.isdecimal();"
   ]
  },
  {
   "cell_type": "code",
   "execution_count": 2,
   "metadata": {
    "collapsed": false
   },
   "outputs": [
    {
     "name": "stdout",
     "output_type": "stream",
     "text": [
      "True\n",
      "False\n"
     ]
    }
   ],
   "source": [
    "str = \"This Is String Example...Wow!!!\";\n",
    "print str.istitle()\n",
    "\n",
    "str = \"This is string example....wow!!!\";\n",
    "print str.istitle()"
   ]
  }
 ],
 "metadata": {
  "kernelspec": {
   "display_name": "Python 2",
   "language": "python",
   "name": "python2"
  },
  "language_info": {
   "codemirror_mode": {
    "name": "ipython",
    "version": 2
   },
   "file_extension": ".py",
   "mimetype": "text/x-python",
   "name": "python",
   "nbconvert_exporter": "python",
   "pygments_lexer": "ipython2",
   "version": "2.7.12"
  }
 },
 "nbformat": 4,
 "nbformat_minor": 2
}
